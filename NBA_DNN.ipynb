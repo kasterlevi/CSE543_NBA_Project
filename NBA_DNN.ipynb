{
  "nbformat": 4,
  "nbformat_minor": 0,
  "metadata": {
    "colab": {
      "name": "NBA_DNN.ipynb",
      "provenance": [],
      "collapsed_sections": []
    },
    "kernelspec": {
      "name": "python3",
      "display_name": "Python 3"
    },
    "language_info": {
      "name": "python"
    }
  },
  "cells": [
    {
      "cell_type": "markdown",
      "source": [
        "Original file is located at\n",
        "    https://colab.research.google.com/drive/1aSjpmnt8ETarmQxnMOaok3HXYp71tTSm"
      ],
      "metadata": {
        "id": "Lv62Tcskj2IV"
      }
    },
    {
      "cell_type": "code",
      "execution_count": 167,
      "metadata": {
        "colab": {
          "base_uri": "https://localhost:8080/"
        },
        "id": "IGe1-mOQc_39",
        "outputId": "0485c3a2-2032-4b99-fe25-21257743f63d"
      },
      "outputs": [
        {
          "output_type": "stream",
          "name": "stdout",
          "text": [
            "Requirement already satisfied: tensorflow-addons in /usr/local/lib/python3.7/dist-packages (0.16.1)\n",
            "Requirement already satisfied: typeguard>=2.7 in /usr/local/lib/python3.7/dist-packages (from tensorflow-addons) (2.7.1)\n",
            "Requirement already satisfied: keras-tuner in /usr/local/lib/python3.7/dist-packages (1.1.2)\n",
            "Requirement already satisfied: requests in /usr/local/lib/python3.7/dist-packages (from keras-tuner) (2.23.0)\n",
            "Requirement already satisfied: tensorboard in /usr/local/lib/python3.7/dist-packages (from keras-tuner) (2.8.0)\n",
            "Requirement already satisfied: numpy in /usr/local/lib/python3.7/dist-packages (from keras-tuner) (1.21.6)\n",
            "Requirement already satisfied: packaging in /usr/local/lib/python3.7/dist-packages (from keras-tuner) (21.3)\n",
            "Requirement already satisfied: kt-legacy in /usr/local/lib/python3.7/dist-packages (from keras-tuner) (1.0.4)\n",
            "Requirement already satisfied: ipython in /usr/local/lib/python3.7/dist-packages (from keras-tuner) (5.5.0)\n",
            "Requirement already satisfied: simplegeneric>0.8 in /usr/local/lib/python3.7/dist-packages (from ipython->keras-tuner) (0.8.1)\n",
            "Requirement already satisfied: prompt-toolkit<2.0.0,>=1.0.4 in /usr/local/lib/python3.7/dist-packages (from ipython->keras-tuner) (1.0.18)\n",
            "Requirement already satisfied: pexpect in /usr/local/lib/python3.7/dist-packages (from ipython->keras-tuner) (4.8.0)\n",
            "Requirement already satisfied: decorator in /usr/local/lib/python3.7/dist-packages (from ipython->keras-tuner) (4.4.2)\n",
            "Requirement already satisfied: setuptools>=18.5 in /usr/local/lib/python3.7/dist-packages (from ipython->keras-tuner) (57.4.0)\n",
            "Requirement already satisfied: pickleshare in /usr/local/lib/python3.7/dist-packages (from ipython->keras-tuner) (0.7.5)\n",
            "Requirement already satisfied: traitlets>=4.2 in /usr/local/lib/python3.7/dist-packages (from ipython->keras-tuner) (5.1.1)\n",
            "Requirement already satisfied: pygments in /usr/local/lib/python3.7/dist-packages (from ipython->keras-tuner) (2.6.1)\n",
            "Requirement already satisfied: wcwidth in /usr/local/lib/python3.7/dist-packages (from prompt-toolkit<2.0.0,>=1.0.4->ipython->keras-tuner) (0.2.5)\n",
            "Requirement already satisfied: six>=1.9.0 in /usr/local/lib/python3.7/dist-packages (from prompt-toolkit<2.0.0,>=1.0.4->ipython->keras-tuner) (1.15.0)\n",
            "Requirement already satisfied: pyparsing!=3.0.5,>=2.0.2 in /usr/local/lib/python3.7/dist-packages (from packaging->keras-tuner) (3.0.8)\n",
            "Requirement already satisfied: ptyprocess>=0.5 in /usr/local/lib/python3.7/dist-packages (from pexpect->ipython->keras-tuner) (0.7.0)\n",
            "Requirement already satisfied: urllib3!=1.25.0,!=1.25.1,<1.26,>=1.21.1 in /usr/local/lib/python3.7/dist-packages (from requests->keras-tuner) (1.24.3)\n",
            "Requirement already satisfied: idna<3,>=2.5 in /usr/local/lib/python3.7/dist-packages (from requests->keras-tuner) (2.10)\n",
            "Requirement already satisfied: certifi>=2017.4.17 in /usr/local/lib/python3.7/dist-packages (from requests->keras-tuner) (2021.10.8)\n",
            "Requirement already satisfied: chardet<4,>=3.0.2 in /usr/local/lib/python3.7/dist-packages (from requests->keras-tuner) (3.0.4)\n",
            "Requirement already satisfied: wheel>=0.26 in /usr/local/lib/python3.7/dist-packages (from tensorboard->keras-tuner) (0.37.1)\n",
            "Requirement already satisfied: google-auth-oauthlib<0.5,>=0.4.1 in /usr/local/lib/python3.7/dist-packages (from tensorboard->keras-tuner) (0.4.6)\n",
            "Requirement already satisfied: protobuf>=3.6.0 in /usr/local/lib/python3.7/dist-packages (from tensorboard->keras-tuner) (3.17.3)\n",
            "Requirement already satisfied: tensorboard-plugin-wit>=1.6.0 in /usr/local/lib/python3.7/dist-packages (from tensorboard->keras-tuner) (1.8.1)\n",
            "Requirement already satisfied: google-auth<3,>=1.6.3 in /usr/local/lib/python3.7/dist-packages (from tensorboard->keras-tuner) (1.35.0)\n",
            "Requirement already satisfied: markdown>=2.6.8 in /usr/local/lib/python3.7/dist-packages (from tensorboard->keras-tuner) (3.3.6)\n",
            "Requirement already satisfied: tensorboard-data-server<0.7.0,>=0.6.0 in /usr/local/lib/python3.7/dist-packages (from tensorboard->keras-tuner) (0.6.1)\n",
            "Requirement already satisfied: grpcio>=1.24.3 in /usr/local/lib/python3.7/dist-packages (from tensorboard->keras-tuner) (1.44.0)\n",
            "Requirement already satisfied: werkzeug>=0.11.15 in /usr/local/lib/python3.7/dist-packages (from tensorboard->keras-tuner) (1.0.1)\n",
            "Requirement already satisfied: absl-py>=0.4 in /usr/local/lib/python3.7/dist-packages (from tensorboard->keras-tuner) (1.0.0)\n",
            "Requirement already satisfied: cachetools<5.0,>=2.0.0 in /usr/local/lib/python3.7/dist-packages (from google-auth<3,>=1.6.3->tensorboard->keras-tuner) (4.2.4)\n",
            "Requirement already satisfied: pyasn1-modules>=0.2.1 in /usr/local/lib/python3.7/dist-packages (from google-auth<3,>=1.6.3->tensorboard->keras-tuner) (0.2.8)\n",
            "Requirement already satisfied: rsa<5,>=3.1.4 in /usr/local/lib/python3.7/dist-packages (from google-auth<3,>=1.6.3->tensorboard->keras-tuner) (4.8)\n",
            "Requirement already satisfied: requests-oauthlib>=0.7.0 in /usr/local/lib/python3.7/dist-packages (from google-auth-oauthlib<0.5,>=0.4.1->tensorboard->keras-tuner) (1.3.1)\n",
            "Requirement already satisfied: importlib-metadata>=4.4 in /usr/local/lib/python3.7/dist-packages (from markdown>=2.6.8->tensorboard->keras-tuner) (4.11.3)\n",
            "Requirement already satisfied: typing-extensions>=3.6.4 in /usr/local/lib/python3.7/dist-packages (from importlib-metadata>=4.4->markdown>=2.6.8->tensorboard->keras-tuner) (4.2.0)\n",
            "Requirement already satisfied: zipp>=0.5 in /usr/local/lib/python3.7/dist-packages (from importlib-metadata>=4.4->markdown>=2.6.8->tensorboard->keras-tuner) (3.8.0)\n",
            "Requirement already satisfied: pyasn1<0.5.0,>=0.4.6 in /usr/local/lib/python3.7/dist-packages (from pyasn1-modules>=0.2.1->google-auth<3,>=1.6.3->tensorboard->keras-tuner) (0.4.8)\n",
            "Requirement already satisfied: oauthlib>=3.0.0 in /usr/local/lib/python3.7/dist-packages (from requests-oauthlib>=0.7.0->google-auth-oauthlib<0.5,>=0.4.1->tensorboard->keras-tuner) (3.2.0)\n"
          ]
        }
      ],
      "source": [
        "!pip install tensorflow-addons\n",
        "!pip install keras-tuner\n",
        "\n",
        "import matplotlib.pyplot as plt\n",
        "import numpy as np\n",
        "import pandas as pd\n",
        "import tensorflow as tf\n",
        "import keras_tuner as kt\n",
        "\n",
        "from tensorflow import keras\n",
        "from tensorflow.keras import layers\n",
        "from tensorflow.keras import Sequential\n",
        "from tensorflow.keras.layers import Dense\n",
        "from tensorflow.keras import callbacks\n",
        "from tensorflow.keras.metrics import mean_squared_error\n",
        "from tensorflow_addons.metrics.r_square import RSquare\n",
        "\n",
        "np.set_printoptions(precision=3, suppress=True)"
      ]
    },
    {
      "cell_type": "code",
      "source": [
        "#Upload NBA_Player_StatsV2.csv\n",
        "raw_dataset = pd.read_csv('/content/NBA_Player_StatsV2.csv')"
      ],
      "metadata": {
        "id": "dgWAZzjtdKIu"
      },
      "execution_count": 168,
      "outputs": []
    },
    {
      "cell_type": "code",
      "source": [
        "#Data cleanup including one-hot conversion\n",
        "dataset = raw_dataset.copy()\n",
        "dataset = dataset.drop(['Unnamed: 0'], axis = 1)\n",
        "dataset['Player'] = pd.factorize(dataset.Player)[0] + 1\n",
        "dataset['Tm'] = pd.factorize(dataset.Tm)[0] + 1\n",
        "dataset['Pos'] = pd.factorize(dataset.Pos)[0] + 1\n",
        "dataset.tail()"
      ],
      "metadata": {
        "colab": {
          "base_uri": "https://localhost:8080/",
          "height": 300
        },
        "id": "PDoHcYHPgf23",
        "outputId": "8257e5c9-9b75-4917-c23a-c8e889a9b7cd"
      },
      "execution_count": 169,
      "outputs": [
        {
          "output_type": "execute_result",
          "data": {
            "text/plain": [
              "       Player  Pos   Age  Tm     G    MP   FG   FGA    FG%   3P  ...  AST  \\\n",
              "10036    1764    1  23.0   3  52.0  18.9  3.6   5.0  0.721  0.0  ...  1.8   \n",
              "10037    1711    1  25.0  20  41.0  32.3  8.0  15.6  0.514  1.9  ...  1.7   \n",
              "10038    1212    3  32.0  18  68.0  24.3  5.4   9.7  0.559  0.2  ...  4.3   \n",
              "10039    1669    2  22.0  17  63.0  33.7  7.7  17.7  0.438  2.2  ...  9.4   \n",
              "10040    1627    1  23.0  24  72.0  22.3  3.6   5.5  0.652  0.0  ...  1.3   \n",
              "\n",
              "       STL  BLK  TOV   PF   PTS  Season  Target_PTS  Target_TRB  Target_AST  \n",
              "10036  0.8  1.8  1.0  2.0   8.0    2021        10.0         9.6         2.0  \n",
              "10037  0.8  1.2  2.0  2.1  21.0    2021        17.9        10.1         2.3  \n",
              "10038  1.1  0.6  2.0  2.2  12.1    2021         6.2         4.0         2.0  \n",
              "10039  0.8  0.2  4.1  1.8  25.3    2021        28.4         3.7         9.7  \n",
              "10040  0.3  0.9  1.1  2.6   9.0    2021        10.3         8.5         1.6  \n",
              "\n",
              "[5 rows x 32 columns]"
            ],
            "text/html": [
              "\n",
              "  <div id=\"df-8440cb3a-2b05-4ed5-9c96-91e38537523f\">\n",
              "    <div class=\"colab-df-container\">\n",
              "      <div>\n",
              "<style scoped>\n",
              "    .dataframe tbody tr th:only-of-type {\n",
              "        vertical-align: middle;\n",
              "    }\n",
              "\n",
              "    .dataframe tbody tr th {\n",
              "        vertical-align: top;\n",
              "    }\n",
              "\n",
              "    .dataframe thead th {\n",
              "        text-align: right;\n",
              "    }\n",
              "</style>\n",
              "<table border=\"1\" class=\"dataframe\">\n",
              "  <thead>\n",
              "    <tr style=\"text-align: right;\">\n",
              "      <th></th>\n",
              "      <th>Player</th>\n",
              "      <th>Pos</th>\n",
              "      <th>Age</th>\n",
              "      <th>Tm</th>\n",
              "      <th>G</th>\n",
              "      <th>MP</th>\n",
              "      <th>FG</th>\n",
              "      <th>FGA</th>\n",
              "      <th>FG%</th>\n",
              "      <th>3P</th>\n",
              "      <th>...</th>\n",
              "      <th>AST</th>\n",
              "      <th>STL</th>\n",
              "      <th>BLK</th>\n",
              "      <th>TOV</th>\n",
              "      <th>PF</th>\n",
              "      <th>PTS</th>\n",
              "      <th>Season</th>\n",
              "      <th>Target_PTS</th>\n",
              "      <th>Target_TRB</th>\n",
              "      <th>Target_AST</th>\n",
              "    </tr>\n",
              "  </thead>\n",
              "  <tbody>\n",
              "    <tr>\n",
              "      <th>10036</th>\n",
              "      <td>1764</td>\n",
              "      <td>1</td>\n",
              "      <td>23.0</td>\n",
              "      <td>3</td>\n",
              "      <td>52.0</td>\n",
              "      <td>18.9</td>\n",
              "      <td>3.6</td>\n",
              "      <td>5.0</td>\n",
              "      <td>0.721</td>\n",
              "      <td>0.0</td>\n",
              "      <td>...</td>\n",
              "      <td>1.8</td>\n",
              "      <td>0.8</td>\n",
              "      <td>1.8</td>\n",
              "      <td>1.0</td>\n",
              "      <td>2.0</td>\n",
              "      <td>8.0</td>\n",
              "      <td>2021</td>\n",
              "      <td>10.0</td>\n",
              "      <td>9.6</td>\n",
              "      <td>2.0</td>\n",
              "    </tr>\n",
              "    <tr>\n",
              "      <th>10037</th>\n",
              "      <td>1711</td>\n",
              "      <td>1</td>\n",
              "      <td>25.0</td>\n",
              "      <td>20</td>\n",
              "      <td>41.0</td>\n",
              "      <td>32.3</td>\n",
              "      <td>8.0</td>\n",
              "      <td>15.6</td>\n",
              "      <td>0.514</td>\n",
              "      <td>1.9</td>\n",
              "      <td>...</td>\n",
              "      <td>1.7</td>\n",
              "      <td>0.8</td>\n",
              "      <td>1.2</td>\n",
              "      <td>2.0</td>\n",
              "      <td>2.1</td>\n",
              "      <td>21.0</td>\n",
              "      <td>2021</td>\n",
              "      <td>17.9</td>\n",
              "      <td>10.1</td>\n",
              "      <td>2.3</td>\n",
              "    </tr>\n",
              "    <tr>\n",
              "      <th>10038</th>\n",
              "      <td>1212</td>\n",
              "      <td>3</td>\n",
              "      <td>32.0</td>\n",
              "      <td>18</td>\n",
              "      <td>68.0</td>\n",
              "      <td>24.3</td>\n",
              "      <td>5.4</td>\n",
              "      <td>9.7</td>\n",
              "      <td>0.559</td>\n",
              "      <td>0.2</td>\n",
              "      <td>...</td>\n",
              "      <td>4.3</td>\n",
              "      <td>1.1</td>\n",
              "      <td>0.6</td>\n",
              "      <td>2.0</td>\n",
              "      <td>2.2</td>\n",
              "      <td>12.1</td>\n",
              "      <td>2021</td>\n",
              "      <td>6.2</td>\n",
              "      <td>4.0</td>\n",
              "      <td>2.0</td>\n",
              "    </tr>\n",
              "    <tr>\n",
              "      <th>10039</th>\n",
              "      <td>1669</td>\n",
              "      <td>2</td>\n",
              "      <td>22.0</td>\n",
              "      <td>17</td>\n",
              "      <td>63.0</td>\n",
              "      <td>33.7</td>\n",
              "      <td>7.7</td>\n",
              "      <td>17.7</td>\n",
              "      <td>0.438</td>\n",
              "      <td>2.2</td>\n",
              "      <td>...</td>\n",
              "      <td>9.4</td>\n",
              "      <td>0.8</td>\n",
              "      <td>0.2</td>\n",
              "      <td>4.1</td>\n",
              "      <td>1.8</td>\n",
              "      <td>25.3</td>\n",
              "      <td>2021</td>\n",
              "      <td>28.4</td>\n",
              "      <td>3.7</td>\n",
              "      <td>9.7</td>\n",
              "    </tr>\n",
              "    <tr>\n",
              "      <th>10040</th>\n",
              "      <td>1627</td>\n",
              "      <td>1</td>\n",
              "      <td>23.0</td>\n",
              "      <td>24</td>\n",
              "      <td>72.0</td>\n",
              "      <td>22.3</td>\n",
              "      <td>3.6</td>\n",
              "      <td>5.5</td>\n",
              "      <td>0.652</td>\n",
              "      <td>0.0</td>\n",
              "      <td>...</td>\n",
              "      <td>1.3</td>\n",
              "      <td>0.3</td>\n",
              "      <td>0.9</td>\n",
              "      <td>1.1</td>\n",
              "      <td>2.6</td>\n",
              "      <td>9.0</td>\n",
              "      <td>2021</td>\n",
              "      <td>10.3</td>\n",
              "      <td>8.5</td>\n",
              "      <td>1.6</td>\n",
              "    </tr>\n",
              "  </tbody>\n",
              "</table>\n",
              "<p>5 rows × 32 columns</p>\n",
              "</div>\n",
              "      <button class=\"colab-df-convert\" onclick=\"convertToInteractive('df-8440cb3a-2b05-4ed5-9c96-91e38537523f')\"\n",
              "              title=\"Convert this dataframe to an interactive table.\"\n",
              "              style=\"display:none;\">\n",
              "        \n",
              "  <svg xmlns=\"http://www.w3.org/2000/svg\" height=\"24px\"viewBox=\"0 0 24 24\"\n",
              "       width=\"24px\">\n",
              "    <path d=\"M0 0h24v24H0V0z\" fill=\"none\"/>\n",
              "    <path d=\"M18.56 5.44l.94 2.06.94-2.06 2.06-.94-2.06-.94-.94-2.06-.94 2.06-2.06.94zm-11 1L8.5 8.5l.94-2.06 2.06-.94-2.06-.94L8.5 2.5l-.94 2.06-2.06.94zm10 10l.94 2.06.94-2.06 2.06-.94-2.06-.94-.94-2.06-.94 2.06-2.06.94z\"/><path d=\"M17.41 7.96l-1.37-1.37c-.4-.4-.92-.59-1.43-.59-.52 0-1.04.2-1.43.59L10.3 9.45l-7.72 7.72c-.78.78-.78 2.05 0 2.83L4 21.41c.39.39.9.59 1.41.59.51 0 1.02-.2 1.41-.59l7.78-7.78 2.81-2.81c.8-.78.8-2.07 0-2.86zM5.41 20L4 18.59l7.72-7.72 1.47 1.35L5.41 20z\"/>\n",
              "  </svg>\n",
              "      </button>\n",
              "      \n",
              "  <style>\n",
              "    .colab-df-container {\n",
              "      display:flex;\n",
              "      flex-wrap:wrap;\n",
              "      gap: 12px;\n",
              "    }\n",
              "\n",
              "    .colab-df-convert {\n",
              "      background-color: #E8F0FE;\n",
              "      border: none;\n",
              "      border-radius: 50%;\n",
              "      cursor: pointer;\n",
              "      display: none;\n",
              "      fill: #1967D2;\n",
              "      height: 32px;\n",
              "      padding: 0 0 0 0;\n",
              "      width: 32px;\n",
              "    }\n",
              "\n",
              "    .colab-df-convert:hover {\n",
              "      background-color: #E2EBFA;\n",
              "      box-shadow: 0px 1px 2px rgba(60, 64, 67, 0.3), 0px 1px 3px 1px rgba(60, 64, 67, 0.15);\n",
              "      fill: #174EA6;\n",
              "    }\n",
              "\n",
              "    [theme=dark] .colab-df-convert {\n",
              "      background-color: #3B4455;\n",
              "      fill: #D2E3FC;\n",
              "    }\n",
              "\n",
              "    [theme=dark] .colab-df-convert:hover {\n",
              "      background-color: #434B5C;\n",
              "      box-shadow: 0px 1px 3px 1px rgba(0, 0, 0, 0.15);\n",
              "      filter: drop-shadow(0px 1px 2px rgba(0, 0, 0, 0.3));\n",
              "      fill: #FFFFFF;\n",
              "    }\n",
              "  </style>\n",
              "\n",
              "      <script>\n",
              "        const buttonEl =\n",
              "          document.querySelector('#df-8440cb3a-2b05-4ed5-9c96-91e38537523f button.colab-df-convert');\n",
              "        buttonEl.style.display =\n",
              "          google.colab.kernel.accessAllowed ? 'block' : 'none';\n",
              "\n",
              "        async function convertToInteractive(key) {\n",
              "          const element = document.querySelector('#df-8440cb3a-2b05-4ed5-9c96-91e38537523f');\n",
              "          const dataTable =\n",
              "            await google.colab.kernel.invokeFunction('convertToInteractive',\n",
              "                                                     [key], {});\n",
              "          if (!dataTable) return;\n",
              "\n",
              "          const docLinkHtml = 'Like what you see? Visit the ' +\n",
              "            '<a target=\"_blank\" href=https://colab.research.google.com/notebooks/data_table.ipynb>data table notebook</a>'\n",
              "            + ' to learn more about interactive tables.';\n",
              "          element.innerHTML = '';\n",
              "          dataTable['output_type'] = 'display_data';\n",
              "          await google.colab.output.renderOutput(dataTable, element);\n",
              "          const docLink = document.createElement('div');\n",
              "          docLink.innerHTML = docLinkHtml;\n",
              "          element.appendChild(docLink);\n",
              "        }\n",
              "      </script>\n",
              "    </div>\n",
              "  </div>\n",
              "  "
            ]
          },
          "metadata": {},
          "execution_count": 169
        }
      ]
    },
    {
      "cell_type": "code",
      "source": [
        "#80-20 training-testing split\n",
        "train_dataset = dataset.sample(frac=0.8, random_state=0)\n",
        "test_dataset = dataset.drop(train_dataset.index)"
      ],
      "metadata": {
        "id": "V2JBvG4ke_CX"
      },
      "execution_count": 170,
      "outputs": []
    },
    {
      "cell_type": "code",
      "source": [
        "#Spliting X and Y\n",
        "train_features = train_dataset.drop(['Target_PTS', 'Target_TRB', 'Target_AST'], axis=1)\n",
        "test_features = test_dataset.drop(['Target_PTS', 'Target_TRB', 'Target_AST'], axis=1)\n",
        "\n",
        "train_labels = train_dataset[['Target_PTS', 'Target_TRB', 'Target_AST']].copy()\n",
        "test_labels = test_dataset[['Target_PTS', 'Target_TRB', 'Target_AST']].copy()"
      ],
      "metadata": {
        "id": "OpV00lV3ijkh"
      },
      "execution_count": 171,
      "outputs": []
    },
    {
      "cell_type": "code",
      "source": [
        "#normalizing data\n",
        "normalizer = tf.keras.layers.Normalization(axis=-1)\n",
        "normalizer.adapt(np.array(train_features))\n",
        "print(normalizer.mean.numpy())"
      ],
      "metadata": {
        "colab": {
          "base_uri": "https://localhost:8080/"
        },
        "id": "fAD8PLdEligL",
        "outputId": "43a1fced-5677-4885-fe3a-3250abd52455"
      },
      "execution_count": 172,
      "outputs": [
        {
          "output_type": "stream",
          "name": "stdout",
          "text": [
            "[[ 800.49     3.009   26.539   16.881   69.316   25.877    4.255    9.136\n",
            "     0.465    0.58     1.634    0.244    3.674    7.499    0.487    0.496\n",
            "     2.131    2.806    0.749    1.311    3.273    4.582    2.546    0.871\n",
            "     0.545    1.605    2.311   11.223 2001.559]]\n"
          ]
        }
      ]
    },
    {
      "cell_type": "code",
      "source": [
        "#model building with hyperparamer tuning: number of units, activation function,\n",
        "#optional dropout layer, and learning rate\n",
        "def build_model(hp):\n",
        "  in_dim = train_features.shape[1]\n",
        "  out_dim = train_labels.shape[1]\n",
        "\n",
        "  hp_units1 = hp.Int('units1', min_value=32, max_value=512, step=32)\n",
        "  hp_units2 = hp.Int('units2', min_value=32, max_value=512, step=32)\n",
        "  #hp_units3 = hp.Int('units3', min_value=32, max_value=512, step=32)\n",
        "  hp_activation1 = hp.Choice(\"activation1\", [\"relu\", \"tanh\"])\n",
        "  hp_activation2 = hp.Choice(\"activation2\", [\"relu\", \"tanh\"])\n",
        "  #hp_activation3 = hp.Choice(\"activation3\", [\"relu\", \"tanh\"])\n",
        "  hp_dropout1 = hp.Boolean(\"dropout1\")\n",
        "  #hp_dropout2 = hp.Boolean(\"dropout2\")\n",
        "  hp_lr = hp.Float(\"lr\", min_value=1e-4, max_value=1e-2, sampling=\"log\")\n",
        "\n",
        "  model = Sequential(normalizer)\n",
        "  model.add(Dense(hp_units1, input_dim=in_dim, activation=hp_activation1))\n",
        "  if hp_dropout1:\n",
        "    model.add(layers.Dropout(rate=0.25))\n",
        "  model.add(Dense(hp_units2, activation=hp_activation2))\n",
        "  #if hp_dropout2:\n",
        "    #model.add(layers.Dropout(rate=0.25))\n",
        "  #model.add(Dense(hp_units3, activation=hp_activation3))\n",
        "  model.add(Dense(out_dim))\n",
        "  model.compile(loss=\"mse\", optimizer=keras.optimizers.Adam(learning_rate=hp_lr),\n",
        "                metrics=['msle'])\n",
        "  \n",
        "  return model"
      ],
      "metadata": {
        "id": "71LKzj40u-OJ"
      },
      "execution_count": 173,
      "outputs": []
    },
    {
      "cell_type": "code",
      "source": [
        "#tune hyperparameters\n",
        "tuner = kt.Hyperband(\n",
        "    build_model,\n",
        "    objective='val_msle',\n",
        "    max_epochs=20,\n",
        "    directory='keras_tuner_dir',\n",
        "    overwrite=True\n",
        ")\n",
        "tuner.search(train_features, train_labels, epochs=20, validation_split=0.2)"
      ],
      "metadata": {
        "colab": {
          "base_uri": "https://localhost:8080/"
        },
        "id": "mqwx6hidR4-o",
        "outputId": "40bd1007-31de-4900-edcd-e3ec9c30242a"
      },
      "execution_count": 174,
      "outputs": [
        {
          "output_type": "stream",
          "name": "stdout",
          "text": [
            "Trial 30 Complete [00h 00m 12s]\n",
            "val_msle: 0.07789571583271027\n",
            "\n",
            "Best val_msle So Far: 0.06518445163965225\n",
            "Total elapsed time: 00h 04m 27s\n",
            "INFO:tensorflow:Oracle triggered exit\n"
          ]
        }
      ]
    },
    {
      "cell_type": "code",
      "source": [
        "#build model\n",
        "model = tuner.get_best_models(num_models=1)[0]\n",
        "model.build()\n",
        "model.summary()"
      ],
      "metadata": {
        "colab": {
          "base_uri": "https://localhost:8080/"
        },
        "id": "d_9fnYuKVJ9X",
        "outputId": "51b3eeee-2553-485d-cdbe-853b244063c5"
      },
      "execution_count": 175,
      "outputs": [
        {
          "output_type": "stream",
          "name": "stdout",
          "text": [
            "Model: \"sequential\"\n",
            "_________________________________________________________________\n",
            " Layer (type)                Output Shape              Param #   \n",
            "=================================================================\n",
            " normalization (Normalizatio  (None, 29)               59        \n",
            " n)                                                              \n",
            "                                                                 \n",
            " dense (Dense)               (None, 448)               13440     \n",
            "                                                                 \n",
            " dense_1 (Dense)             (None, 224)               100576    \n",
            "                                                                 \n",
            " dense_2 (Dense)             (None, 3)                 675       \n",
            "                                                                 \n",
            "=================================================================\n",
            "Total params: 114,750\n",
            "Trainable params: 114,691\n",
            "Non-trainable params: 59\n",
            "_________________________________________________________________\n"
          ]
        }
      ]
    },
    {
      "cell_type": "code",
      "source": [
        "#fit model while minimizing overfitting\n",
        "earlystopping = callbacks.EarlyStopping(monitor =\"val_loss\", mode =\"min\",\n",
        "                                        verbose = 1, patience = 10,\n",
        "                                        restore_best_weights = True)\n",
        "model.fit(train_features, train_labels, epochs=100, batch_size=12,\n",
        "              validation_split=0.2, callbacks = [earlystopping])"
      ],
      "metadata": {
        "colab": {
          "base_uri": "https://localhost:8080/"
        },
        "id": "rv3JPea3o5ZE",
        "outputId": "84981ec6-1ae8-4622-ecbd-ae2651ac1892"
      },
      "execution_count": 176,
      "outputs": [
        {
          "output_type": "stream",
          "name": "stdout",
          "text": [
            "Epoch 1/100\n",
            "536/536 [==============================] - 3s 4ms/step - loss: 3.7026 - msle: 0.0651 - val_loss: 4.0562 - val_msle: 0.0710\n",
            "Epoch 2/100\n",
            "536/536 [==============================] - 2s 4ms/step - loss: 3.6000 - msle: 0.0637 - val_loss: 3.9900 - val_msle: 0.0703\n",
            "Epoch 3/100\n",
            "536/536 [==============================] - 2s 4ms/step - loss: 3.5384 - msle: 0.0625 - val_loss: 3.8537 - val_msle: 0.0660\n",
            "Epoch 4/100\n",
            "536/536 [==============================] - 2s 4ms/step - loss: 3.4200 - msle: 0.0608 - val_loss: 4.0100 - val_msle: 0.0700\n",
            "Epoch 5/100\n",
            "536/536 [==============================] - 2s 4ms/step - loss: 3.3932 - msle: 0.0604 - val_loss: 4.0082 - val_msle: 0.0714\n",
            "Epoch 6/100\n",
            "536/536 [==============================] - 2s 4ms/step - loss: 3.3007 - msle: 0.0592 - val_loss: 4.1135 - val_msle: 0.0685\n",
            "Epoch 7/100\n",
            "536/536 [==============================] - 2s 3ms/step - loss: 3.2376 - msle: 0.0580 - val_loss: 3.9741 - val_msle: 0.0743\n",
            "Epoch 8/100\n",
            "536/536 [==============================] - 2s 4ms/step - loss: 3.1646 - msle: 0.0582 - val_loss: 4.1051 - val_msle: 0.0725\n",
            "Epoch 9/100\n",
            "536/536 [==============================] - 2s 4ms/step - loss: 3.0810 - msle: 0.0565 - val_loss: 3.9606 - val_msle: 0.0680\n",
            "Epoch 10/100\n",
            "536/536 [==============================] - 2s 4ms/step - loss: 2.9925 - msle: 0.0554 - val_loss: 4.0480 - val_msle: 0.0693\n",
            "Epoch 11/100\n",
            "536/536 [==============================] - 2s 4ms/step - loss: 2.9154 - msle: 0.0550 - val_loss: 4.0204 - val_msle: 0.0700\n",
            "Epoch 12/100\n",
            "536/536 [==============================] - 2s 3ms/step - loss: 2.8168 - msle: 0.0529 - val_loss: 4.1428 - val_msle: 0.0698\n",
            "Epoch 13/100\n",
            "525/536 [============================>.] - ETA: 0s - loss: 2.7422 - msle: 0.0521Restoring model weights from the end of the best epoch: 3.\n",
            "536/536 [==============================] - 2s 3ms/step - loss: 2.7434 - msle: 0.0520 - val_loss: 4.2389 - val_msle: 0.0741\n",
            "Epoch 13: early stopping\n"
          ]
        },
        {
          "output_type": "execute_result",
          "data": {
            "text/plain": [
              "<keras.callbacks.History at 0x7fa1f32b0ed0>"
            ]
          },
          "metadata": {},
          "execution_count": 176
        }
      ]
    },
    {
      "cell_type": "code",
      "source": [
        "#prediction\n",
        "y_pred = model.predict(test_features)\n",
        "y_test = test_labels.to_numpy()"
      ],
      "metadata": {
        "id": "AcPjQYLtxeeS"
      },
      "execution_count": 177,
      "outputs": []
    },
    {
      "cell_type": "code",
      "source": [
        "PTS_pred = y_pred[:,0]\n",
        "PTS_test = y_test[:,0]\n",
        "TRB_pred = y_pred[:,1]\n",
        "TRB_test = y_test[:,1]\n",
        "AST_pred = y_pred[:,2]\n",
        "AST_test = y_test[:,2]"
      ],
      "metadata": {
        "id": "NY4d5CWqy1Hu"
      },
      "execution_count": 178,
      "outputs": []
    },
    {
      "cell_type": "code",
      "source": [
        "#calculate mse and r2\n",
        "print(\"PTS MSE:%.4f\" % mean_squared_error(PTS_test, PTS_pred)) \n",
        "print(\"TRB MSE:%.4f\" % mean_squared_error(TRB_test, TRB_pred))\n",
        "print(\"AST MSE:%.4f\" % mean_squared_error(AST_test, AST_pred))\n",
        "\n",
        "metric = RSquare()\n",
        "metric.update_state(PTS_test, PTS_pred)\n",
        "print(\"PTS R2:%.4f\" % metric.result().numpy())\n",
        "metric.update_state(TRB_test, TRB_pred)\n",
        "print(\"TRB R2:%.4f\" % metric.result().numpy())\n",
        "metric.update_state(AST_test, AST_pred)\n",
        "print(\"AST R2:%.4f\" % metric.result().numpy())"
      ],
      "metadata": {
        "colab": {
          "base_uri": "https://localhost:8080/"
        },
        "id": "F9-Sl_lJyY2n",
        "outputId": "7ba3f660-76bf-435e-9dff-f80cb04c14b5"
      },
      "execution_count": 179,
      "outputs": [
        {
          "output_type": "stream",
          "name": "stdout",
          "text": [
            "PTS MSE:8.7964\n",
            "TRB MSE:1.4546\n",
            "AST MSE:0.7183\n",
            "PTS R2:0.7706\n",
            "TRB R2:0.8477\n",
            "AST R2:0.8793\n"
          ]
        }
      ]
    }
  ]
}