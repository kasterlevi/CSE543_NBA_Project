{
 "cells": [
  {
   "cell_type": "code",
   "execution_count": 1,
   "id": "12b9d54b",
   "metadata": {},
   "outputs": [],
   "source": [
    "from urllib.request import urlopen\n",
    "from bs4 import BeautifulSoup\n",
    "import pandas as pd\n",
    "import numpy as np\n",
    "import matplotlib.pyplot as plt\n",
    "import seaborn as sns"
   ]
  },
  {
   "cell_type": "code",
   "execution_count": 2,
   "id": "d99f1d53",
   "metadata": {},
   "outputs": [],
   "source": [
    "# Source for this section: https://medium.com/@osanchez2323/web-scraping-nba-stats-4b4f8c525994\n",
    "# This Section is uses web scraping to pull the data from Basketball Reference \n",
    "\n",
    "years = range(1980, 2023)\n",
    "stats = []\n",
    "for year in years:\n",
    "    url = \"https://www.basketball-reference.com/leagues/NBA_\" + str(year) + \"_per_game.html\"\n",
    "    html = urlopen(url)\n",
    "    soup = BeautifulSoup(html)\n",
    "    features = [th.getText() for th in soup.findAll('tr', limit=2)[0].findAll('th')]\n",
    "    features = features[1:]\n",
    "    data = soup.findAll('tr')[:]\n",
    "    season_stats = [[td.getText() for td in data[i].findAll('td')]\n",
    "            for i in range(len(data))]\n",
    "    temp = pd.DataFrame(season_stats, columns = features)\n",
    "    temp['Season'] = year\n",
    "    stats.append(temp[1:])\n",
    "    \n",
    "    "
   ]
  },
  {
   "cell_type": "code",
   "execution_count": 3,
   "id": "8fb07899",
   "metadata": {},
   "outputs": [
    {
     "name": "stdout",
     "output_type": "stream",
     "text": [
      "Index(['Player', 'Pos', 'Age', 'Tm', 'G', 'GS', 'MP', 'FG', 'FGA', 'FG%', '3P',\n",
      "       '3PA', '3P%', '2P', '2PA', '2P%', 'eFG%', 'FT', 'FTA', 'FT%', 'ORB',\n",
      "       'DRB', 'TRB', 'AST', 'STL', 'BLK', 'TOV', 'PF', 'PTS', 'Season'],\n",
      "      dtype='object')\n"
     ]
    },
    {
     "name": "stderr",
     "output_type": "stream",
     "text": [
      "/home/levikaster/miniconda3/envs/cse217a/lib/python3.7/site-packages/ipykernel_launcher.py:10: SettingWithCopyWarning: \n",
      "A value is trying to be set on a copy of a slice from a DataFrame.\n",
      "Try using .loc[row_indexer,col_indexer] = value instead\n",
      "\n",
      "See the caveats in the documentation: https://pandas.pydata.org/pandas-docs/stable/user_guide/indexing.html#returning-a-view-versus-a-copy\n",
      "  # Remove the CWD from sys.path while we load stuff.\n"
     ]
    }
   ],
   "source": [
    "# Make sure that all of the numerical data is the correct data type\n",
    "i = 0\n",
    "print(stats[0].columns)\n",
    "for year in stats:\n",
    "    columns = year.columns\n",
    "    columns = columns[columns != 'Player']\n",
    "    columns = columns[columns != 'Tm']\n",
    "    columns = columns[columns != 'Pos']\n",
    "    for column in columns:\n",
    "        stats[i][column] = pd.to_numeric(stats[i][column])\n",
    "    i = i+1"
   ]
  },
  {
   "cell_type": "code",
   "execution_count": 4,
   "id": "c895b5d7",
   "metadata": {},
   "outputs": [],
   "source": [
    "# Removes all Data Points where the athlete played less than half of the season\n",
    "i=0\n",
    "for year in stats:\n",
    "    stats[i] = year[year['G'] > 40]\n",
    "    i = i + 1"
   ]
  },
  {
   "cell_type": "code",
   "execution_count": 5,
   "id": "64f6c0a2",
   "metadata": {},
   "outputs": [],
   "source": [
    "# Creates a Second Dataset containing just the player name, points, rebounds, and assists. \n",
    "\n",
    "join = stats[1:]\n",
    "i = 0\n",
    "for season in join:\n",
    "    narrowed = season[['Player','PTS', 'TRB', 'AST']]\n",
    "    join[i] = narrowed.rename(columns={'PTS': 'Target_PTS', 'TRB': 'Target_TRB', 'AST': 'Target_AST'})\n",
    "    i = i + 1"
   ]
  },
  {
   "cell_type": "code",
   "execution_count": 6,
   "id": "9795c8ca",
   "metadata": {},
   "outputs": [
    {
     "data": {
      "text/plain": [
       "(206, 33)"
      ]
     },
     "execution_count": 6,
     "metadata": {},
     "output_type": "execute_result"
    }
   ],
   "source": [
    "# Merges the inital dataset with the next season of the newly created one. This adds the target features to the dataset\n",
    "# Now our Dataset has the next\n",
    "\n",
    "stats_updated = stats[0:len(stats) - 1]\n",
    "joined = []\n",
    "i = 0\n",
    "for season in stats_updated:\n",
    "    joined.append(season.merge(join[i]))\n",
    "    i = i + 1\n",
    "joined[0].shape"
   ]
  },
  {
   "cell_type": "code",
   "execution_count": 7,
   "id": "6d6b356e",
   "metadata": {},
   "outputs": [],
   "source": [
    "# Remove all datapoints where a player's statistics come from multiple teams in a given year\n",
    "i = 0\n",
    "for season in joined:\n",
    "    joined[i] = season[season['Tm'] != 'TOT']\n",
    "    i = i + 1"
   ]
  },
  {
   "cell_type": "code",
   "execution_count": 8,
   "id": "1aae7b68",
   "metadata": {},
   "outputs": [],
   "source": [
    "final = joined[0]\n",
    "i = 0\n",
    "for season in joined:\n",
    "    if i != 0:\n",
    "        final = final.append(season)\n",
    "    i = i + 1"
   ]
  },
  {
   "cell_type": "code",
   "execution_count": 9,
   "id": "78917776",
   "metadata": {},
   "outputs": [],
   "source": [
    "# Remove the 'Games Started' column because it shouldn't contain important information and has many unfilled data points\n",
    "final = final.drop('GS', axis=1)"
   ]
  },
  {
   "cell_type": "code",
   "execution_count": 10,
   "id": "2d48136c",
   "metadata": {},
   "outputs": [],
   "source": [
    "# Remove all unfilled Data Points with 0 since a NaN means that the athlete did not take that kind of shot\n",
    "for column in final.columns:\n",
    "    final[column] = final[column].fillna(0)\n",
    "        "
   ]
  },
  {
   "cell_type": "code",
   "execution_count": 11,
   "id": "347ad900",
   "metadata": {},
   "outputs": [
    {
     "name": "stdout",
     "output_type": "stream",
     "text": [
      "[186, 208, 210, 199, 207, 199, 191, 214, 212, 228, 232, 225, 237, 228, 227, 260, 257, 255, 179, 179, 260, 244, 248, 268, 266, 253, 256, 270, 256, 257, 289, 224, 245, 274, 286, 269, 278, 272, 280, 244, 230, 239]\n"
     ]
    },
    {
     "data": {
      "image/png": "[encoded data removed]",
      "text/plain": [
       "<Figure size 1152x216 with 1 Axes>"
      ]
     },
     "metadata": {
      "needs_background": "light"
     },
     "output_type": "display_data"
    }
   ],
   "source": [
    "# Create A Graph Showing the amount of Data Points from each season over time\n",
    "counts = []\n",
    "for year in np.unique(final['Season']):\n",
    "    counts.append(len(final['Season'][final['Season'] == year]))\n",
    "print(counts)\n",
    "\n",
    "plt.figure(figsize=(16, 3))\n",
    "plt.bar(np.unique(final['Season']), counts)\n",
    "plt.title('Player Count From Each Season')\n",
    "plt.xlabel('Season')\n",
    "plt.ylabel('Count')\n",
    "plt.show()\n"
   ]
  },
  {
   "cell_type": "code",
   "execution_count": 12,
   "id": "92b7cc9d",
   "metadata": {},
   "outputs": [
    {
     "data": {
      "text/plain": [
       "(10041, 32)"
      ]
     },
     "execution_count": 12,
     "metadata": {},
     "output_type": "execute_result"
    }
   ],
   "source": [
    "final.shape"
   ]
  },
  {
   "cell_type": "code",
   "execution_count": 13,
   "id": "02766bd4",
   "metadata": {},
   "outputs": [],
   "source": [
    "# Save the csv\n",
    "final.to_csv('NBA_Player_StatsV2.csv')"
   ]
  },
  {
   "cell_type": "code",
   "execution_count": 34,
   "id": "6272989c",
   "metadata": {},
   "outputs": [],
   "source": [
    "# Creates a dataset representing all of the data from the most recent nba season, as such there are no target features\n",
    "# This is not used in our paper\n",
    "current = stats[42]\n",
    "current = current.drop('GS', axis=1)\n",
    "for column in current.columns:\n",
    "    current[column] = current[column].fillna(0)"
   ]
  },
  {
   "cell_type": "code",
   "execution_count": 38,
   "id": "85aed3f6",
   "metadata": {},
   "outputs": [],
   "source": [
    "current.to_csv('Current_Stats.csv')"
   ]
  }
 ],
 "metadata": {
  "kernelspec": {
   "display_name": "Python 3",
   "language": "python",
   "name": "python3"
  },
  "language_info": {
   "codemirror_mode": {
    "name": "ipython",
    "version": 3
   },
   "file_extension": ".py",
   "mimetype": "text/x-python",
   "name": "python",
   "nbconvert_exporter": "python",
   "pygments_lexer": "ipython3",
   "version": "3.7.11"
  }
 },
 "nbformat": 4,
 "nbformat_minor": 5
}
