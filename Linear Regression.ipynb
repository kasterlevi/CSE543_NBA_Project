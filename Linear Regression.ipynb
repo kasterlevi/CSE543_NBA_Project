{
 "cells": [
  {
   "cell_type": "code",
   "execution_count": 80,
   "id": "d7f4a76e",
   "metadata": {},
   "outputs": [],
   "source": [
    "import pandas as pd\n",
    "import numpy as np\n",
    "from sklearn import preprocessing\n",
    "from sklearn.model_selection import train_test_split\n",
    "from sklearn.linear_model import LinearRegression\n",
    "from sklearn.ensemble import RandomForestClassifier\n",
    "import matplotlib.pyplot as plt\n",
    "from sklearn.metrics import r2_score\n",
    "from sklearn.model_selection import KFold\n",
    "from sklearn.feature_selection import RFECV\n",
    "import seaborn as sns"
   ]
  },
  {
   "cell_type": "code",
   "execution_count": 81,
   "id": "d15a33a4",
   "metadata": {},
   "outputs": [],
   "source": [
    "# Load in the Data\n",
    "data = pd.read_csv(\"https://raw.githubusercontent.com/kasterlevi/CSE543_NBA_Project/main/NBA_Player_StatsV2.csv\")\n"
   ]
  },
  {
   "cell_type": "code",
   "execution_count": 82,
   "id": "01b7e70e",
   "metadata": {},
   "outputs": [],
   "source": [
    "# Remove the categorical data and the target features from the original dataframe\n",
    "# Encode the 'Pos' feature\n",
    "\n",
    "target_PTS = data['Target_PTS']\n",
    "target_TRB = data['Target_TRB']\n",
    "target_AST = data['Target_AST']\n",
    "X = data.drop(['Player','Unnamed: 0','Tm','Target_PTS', 'Target_TRB', 'Target_AST'], axis=1)\n",
    "X['Pos'] = X['Pos'].replace({'C': 5, 'PF': 4, 'SF': 3, 'SG': 2, 'PG': 1})"
   ]
  },
  {
   "cell_type": "code",
   "execution_count": 83,
   "id": "8114865f",
   "metadata": {},
   "outputs": [],
   "source": [
    "# Split Data into the Same Train and Test Sets\n",
    "\n",
    "X_train, X_test, y_train_PTS, y_test_PTS = train_test_split(X, target_PTS, test_size=0.15, random_state=15)\n",
    "X_train, X_test, y_train_TRB, y_test_TRB = train_test_split(X, target_TRB, test_size=0.15, random_state=15)\n",
    "X_train, X_test, y_train_AST, y_test_AST = train_test_split(X, target_AST, test_size=0.15, random_state=15)"
   ]
  },
  {
   "cell_type": "code",
   "execution_count": 84,
   "id": "f8d75855",
   "metadata": {},
   "outputs": [
    {
     "name": "stdout",
     "output_type": "stream",
     "text": [
      "R2 score for predicting PTS with no feature selection: 0.7570238373108176\n",
      "R2 score for predicting TRB with no feature selection: 0.8052496913346774\n",
      "R2 score for predicting AST with no feature selection: 0.8233096218144674\n"
     ]
    }
   ],
   "source": [
    "# Get the Linear Regression results on the test set defined above for all statistics, using no feature selection\n",
    "# Additionally, also get the 'No Model' R2 values for use in paper\n",
    "\n",
    "model = LinearRegression()\n",
    "model.fit(X_train, y_train_PTS)\n",
    "predictions = model.predict(X_test)\n",
    "r2_PTS_NoSelection = r2_score(y_test_PTS, predictions)\n",
    "print('R2 score for predicting PTS with no feature selection: '+ str(r2_PTS_NoSelection))\n",
    "\n",
    "model = LinearRegression()\n",
    "model.fit(X_train, y_train_TRB)\n",
    "predictions = model.predict(X_test)\n",
    "r2_TRB_NoSelection = r2_score(y_test_TRB, predictions)\n",
    "print('R2 score for predicting TRB with no feature selection: '+ str(r2_TRB_NoSelection))\n",
    "\n",
    "model = LinearRegression()\n",
    "model.fit(X_train, y_train_AST)\n",
    "predictions = model.predict(X_test)\n",
    "r2_AST_NoSelection = r2_score(y_test_AST, predictions)\n",
    "print('R2 score for predicting AST with no feature selection: '+ str(r2_AST_NoSelection))"
   ]
  },
  {
   "cell_type": "code",
   "execution_count": 69,
   "id": "19c61309",
   "metadata": {},
   "outputs": [
    {
     "name": "stdout",
     "output_type": "stream",
     "text": [
      "'No Model' R2 score for PTS: 0.6998049654525674\n",
      "'No Model' R2 score for TRB: 0.7580726690878099\n",
      "'No Model' R2 score for AST: 0.7937053260268387\n"
     ]
    }
   ],
   "source": [
    "# Additionally, also get the 'No Model' R2 values for use in paper\n",
    "# In this case we just use the previous season points to 'predict' the next season points\n",
    "prev_PTS = r2_score(y_test_PTS, X_test['PTS'])\n",
    "print(\"'No Model' R2 score for PTS: \" + str(prev_PTS))\n",
    "\n",
    "prev_TRB = r2_score(y_test_TRB, X_test['TRB'])\n",
    "print(\"'No Model' R2 score for TRB: \" + str(prev_TRB))\n",
    "\n",
    "prev_AST = r2_score(y_test_AST, X_test['AST'])\n",
    "print(\"'No Model' R2 score for AST: \" + str(prev_AST))"
   ]
  },
  {
   "cell_type": "code",
   "execution_count": 70,
   "id": "8583fa9d",
   "metadata": {},
   "outputs": [
    {
     "name": "stdout",
     "output_type": "stream",
     "text": [
      "Number of PTS Features: 22\n",
      "Number of TRB Features: 26\n",
      "Number of AST Features: 25\n"
     ]
    }
   ],
   "source": [
    "# Use Recursive Feature Elimination with Cross Validation to Select the Best Features\n",
    "# Also print out the number of features left after this cross validation\n",
    "\n",
    "Recursive_Selector = RFECV(LinearRegression())\n",
    "Recursive_Selector.fit(X_train, y_train_PTS)\n",
    "features_PTS = Recursive_Selector.support_\n",
    "print('Number of PTS Features: ' + str(np.sum(features_PTS)))\n",
    "\n",
    "Recursive_Selector = RFECV(LinearRegression())\n",
    "Recursive_Selector.fit(X_train, y_train_TRB)\n",
    "features_TRB = Recursive_Selector.support_\n",
    "print('Number of TRB Features: ' + str(np.sum(features_TRB)))\n",
    "\n",
    "Recursive_Selector = RFECV(LinearRegression())\n",
    "Recursive_Selector.fit(X_train, y_train_AST)\n",
    "features_AST = Recursive_Selector.support_\n",
    "print('Number of AST Features: ' + str(np.sum(features_AST)))"
   ]
  },
  {
   "cell_type": "code",
   "execution_count": 71,
   "id": "9f422870",
   "metadata": {},
   "outputs": [],
   "source": [
    "# Update the training and test data to reflect the newly selected features\n",
    "X_train_PTS_updated = X_train.loc[:,features_PTS]\n",
    "X_test_PTS_updated = X_test.loc[:,features_PTS]\n",
    "\n",
    "X_train_TRB_updated = X_train.loc[:,features_TRB]\n",
    "X_test_TRB_updated = X_test.loc[:,features_TRB]\n",
    "\n",
    "X_train_AST_updated = X_train.loc[:,features_AST]\n",
    "X_test_AST_updated = X_test.loc[:,features_AST]"
   ]
  },
  {
   "cell_type": "code",
   "execution_count": 75,
   "id": "b3218e63",
   "metadata": {},
   "outputs": [
    {
     "name": "stdout",
     "output_type": "stream",
     "text": [
      "R2 score for predicting PTS with feature selection: 0.7572844130088687\n",
      "R2 score for predicting TRB with feature selection: 0.805254424998048\n",
      "R2 score for predicting AST with feature selection: 0.8233895761335353\n"
     ]
    }
   ],
   "source": [
    "# Use the model to get the R^2 Values after features selection has been done\n",
    "\n",
    "model = LinearRegression()\n",
    "model.fit(X_train_PTS_updated, y_train_PTS)\n",
    "predictions = model.predict(X_test_PTS_updated)\n",
    "r2_PTS_Selection = r2_score(y_test_PTS, predictions)\n",
    "print('R2 score for predicting PTS with feature selection: '+ str(r2_PTS_Selection))\n",
    "\n",
    "model = LinearRegression()\n",
    "model.fit(X_train_TRB_updated, y_train_TRB)\n",
    "predictions = model.predict(X_test_TRB_updated)\n",
    "r2_TRB_Selection = r2_score(y_test_TRB, predictions)\n",
    "print('R2 score for predicting TRB with feature selection: '+ str(r2_TRB_Selection))\n",
    "\n",
    "model = LinearRegression()\n",
    "model.fit(X_train_AST_updated, y_train_AST)\n",
    "predictions = model.predict(X_test_AST_updated)\n",
    "r2_AST_Selection = r2_score(y_test_AST, predictions)\n",
    "print('R2 score for predicting AST with feature selection: '+ str(r2_AST_Selection))"
   ]
  },
  {
   "cell_type": "code",
   "execution_count": 76,
   "id": "20e9bb05",
   "metadata": {},
   "outputs": [
    {
     "data": {
      "text/plain": [
       "Text(0.5, 1.0, 'R^2 Value by Each Statistic and Model Type')"
      ]
     },
     "execution_count": 76,
     "metadata": {},
     "output_type": "execute_result"
    },
    {
     "data": {
      "image/png": "[encoded data removed]",
      "text/plain": [
       "<Figure size 432x288 with 1 Axes>"
      ]
     },
     "metadata": {
      "needs_background": "light"
     },
     "output_type": "display_data"
    }
   ],
   "source": [
    "PTS_values = [r2_PTS_Selection, r2_PTS_NoSelection, prev_PTS]\n",
    "TRB_values = [r2_TRB_Selection, r2_TRB_NoSelection, prev_TRB]\n",
    "AST_values = [r2_AST_Selection, r2_AST_NoSelection, prev_AST]\n",
    "PTS_names = ['Model with Feature Selection', 'Model no Feature Selection','No Model']\n",
    "\n",
    "graph_df = pd.DataFrame(zip(PTS_names*3, [\"PTS\"]*3+[\"TRB\"]*3+[\"AST\"]*3, PTS_values+TRB_values+AST_values), columns=[\"Model Type\", \"Statistic\", \"R2 Value\"])\n",
    "# graph_df = pd.DataFrame(data={'PTS': PTS_values, 'TRB': TRB_values, 'AST': AST_values}, index=PTS_names)\n",
    "sns.barplot(x = \"Statistic\", y='R2 Value', hue=\"Model Type\", data=graph_df)\n",
    "plt.ylim(.65,.9)\n",
    "plt.title('R^2 Value by Each Statistic and Model Type')"
   ]
  },
  {
   "cell_type": "code",
   "execution_count": 77,
   "id": "1d307df3",
   "metadata": {},
   "outputs": [
    {
     "name": "stdout",
     "output_type": "stream",
     "text": [
      "0.7598073663540366\n"
     ]
    }
   ],
   "source": [
    "# Use Cross Validation to get the R^2 value for PTS using the whole dataset\n",
    "\n",
    "kf = KFold(n_splits=10, shuffle = True, random_state=1)\n",
    "values_PTS = []\n",
    "\n",
    "for fold, (train_idx, test_idx) in enumerate(kf.split(X)):\n",
    "    X_train = X.loc[train_idx,:]\n",
    "    X_test = X.loc[test_idx,:]\n",
    "    y_train = target_PTS.loc[train_idx]\n",
    "    y_test = target_PTS.loc[test_idx]\n",
    "    \n",
    "    model = LinearRegression()\n",
    "    model.fit(X_train, y_train)\n",
    "    predictions = model.predict(X_test)\n",
    "    values_PTS.append(r2_score(y_test, predictions))\n",
    "print(np.mean(values_PTS))"
   ]
  },
  {
   "cell_type": "code",
   "execution_count": 78,
   "id": "3696fbe7",
   "metadata": {},
   "outputs": [
    {
     "name": "stdout",
     "output_type": "stream",
     "text": [
      "0.7934835012030222\n"
     ]
    }
   ],
   "source": [
    "# Use Cross Validation to get the R^2 value for AST using the whole dataset\n",
    "\n",
    "kf = KFold(n_splits=10, shuffle = True, random_state=1)\n",
    "values_TRB = []\n",
    "\n",
    "for fold, (train_idx, test_idx) in enumerate(kf.split(X)):\n",
    "    X_train = X.loc[train_idx,:]\n",
    "    X_test = X.loc[test_idx,:]\n",
    "    y_train = target_TRB.loc[train_idx]\n",
    "    y_test = target_TRB.loc[test_idx]\n",
    "    \n",
    "    model = LinearRegression()\n",
    "    model.fit(X_train, y_train)\n",
    "    predictions = model.predict(X_test)\n",
    "    values_TRB.append(r2_score(y_test, predictions))\n",
    "print(np.mean(values_TRB))"
   ]
  },
  {
   "cell_type": "code",
   "execution_count": 79,
   "id": "03acf9b3",
   "metadata": {},
   "outputs": [
    {
     "name": "stdout",
     "output_type": "stream",
     "text": [
      "0.814660923714613\n"
     ]
    }
   ],
   "source": [
    "# Use Cross Validation to get the R^2 value for AST using the whole dataset\n",
    "\n",
    "kf = KFold(n_splits=10, shuffle = True, random_state=1)\n",
    "values_AST = []\n",
    "\n",
    "for fold, (train_idx, test_idx) in enumerate(kf.split(X)):\n",
    "    X_train = X.loc[train_idx,:]\n",
    "    X_test = X.loc[test_idx,:]\n",
    "    y_train = target_AST.loc[train_idx]\n",
    "    y_test = target_AST.loc[test_idx]\n",
    "    \n",
    "    model = LinearRegression()\n",
    "    model.fit(X_train, y_train)\n",
    "    predictions = model.predict(X_test)\n",
    "    values_AST.append(r2_score(y_test, predictions))\n",
    "print(np.mean(values_AST))"
   ]
  }
 ],
 "metadata": {
  "kernelspec": {
   "display_name": "Python 3",
   "language": "python",
   "name": "python3"
  },
  "language_info": {
   "codemirror_mode": {
    "name": "ipython",
    "version": 3
   },
   "file_extension": ".py",
   "mimetype": "text/x-python",
   "name": "python",
   "nbconvert_exporter": "python",
   "pygments_lexer": "ipython3",
   "version": "3.7.11"
  }
 },
 "nbformat": 4,
 "nbformat_minor": 5
}
