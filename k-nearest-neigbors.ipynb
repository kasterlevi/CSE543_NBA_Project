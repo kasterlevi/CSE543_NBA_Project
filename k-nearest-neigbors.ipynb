{
 "cells": [
  {
   "cell_type": "code",
   "execution_count": 217,
   "id": "9b3c81c4",
   "metadata": {},
   "outputs": [],
   "source": [
    "import pandas as pd\n",
    "import numpy as np\n",
    "from sklearn import preprocessing\n",
    "from sklearn.model_selection import train_test_split\n",
    "from sklearn.model_selection import KFold\n",
    "from sklearn.metrics import mean_squared_error\n",
    "from sklearn.neighbors import KNeighborsRegressor\n",
    "from sklearn.metrics import r2_score\n",
    "import matplotlib.pyplot as plt\n",
    "from sklearn.feature_selection import RFECV\n",
    "from sklearn.decomposition import PCA\n",
    "import seaborn as sns"
   ]
  },
  {
   "cell_type": "code",
   "execution_count": 229,
   "id": "95ee609f",
   "metadata": {},
   "outputs": [
    {
     "data": {
      "text/html": [
       "<div>\n",
       "<style scoped>\n",
       "    .dataframe tbody tr th:only-of-type {\n",
       "        vertical-align: middle;\n",
       "    }\n",
       "\n",
       "    .dataframe tbody tr th {\n",
       "        vertical-align: top;\n",
       "    }\n",
       "\n",
       "    .dataframe thead th {\n",
       "        text-align: right;\n",
       "    }\n",
       "</style>\n",
       "<table border=\"1\" class=\"dataframe\">\n",
       "  <thead>\n",
       "    <tr style=\"text-align: right;\">\n",
       "      <th></th>\n",
       "      <th>Unnamed: 0</th>\n",
       "      <th>Player</th>\n",
       "      <th>Pos</th>\n",
       "      <th>Age</th>\n",
       "      <th>Tm</th>\n",
       "      <th>G</th>\n",
       "      <th>MP</th>\n",
       "      <th>FG</th>\n",
       "      <th>FGA</th>\n",
       "      <th>FG%</th>\n",
       "      <th>...</th>\n",
       "      <th>AST</th>\n",
       "      <th>STL</th>\n",
       "      <th>BLK</th>\n",
       "      <th>TOV</th>\n",
       "      <th>PF</th>\n",
       "      <th>PTS</th>\n",
       "      <th>Season</th>\n",
       "      <th>Target_PTS</th>\n",
       "      <th>Target_TRB</th>\n",
       "      <th>Target_AST</th>\n",
       "    </tr>\n",
       "  </thead>\n",
       "  <tbody>\n",
       "    <tr>\n",
       "      <th>0</th>\n",
       "      <td>0</td>\n",
       "      <td>Kareem Abdul-Jabbar*</td>\n",
       "      <td>C</td>\n",
       "      <td>32.0</td>\n",
       "      <td>LAL</td>\n",
       "      <td>82.0</td>\n",
       "      <td>38.3</td>\n",
       "      <td>10.2</td>\n",
       "      <td>16.9</td>\n",
       "      <td>0.604</td>\n",
       "      <td>...</td>\n",
       "      <td>4.5</td>\n",
       "      <td>1.0</td>\n",
       "      <td>3.4</td>\n",
       "      <td>3.6</td>\n",
       "      <td>2.6</td>\n",
       "      <td>24.8</td>\n",
       "      <td>1980</td>\n",
       "      <td>26.2</td>\n",
       "      <td>10.3</td>\n",
       "      <td>3.4</td>\n",
       "    </tr>\n",
       "    <tr>\n",
       "      <th>1</th>\n",
       "      <td>1</td>\n",
       "      <td>Alvan Adams</td>\n",
       "      <td>C</td>\n",
       "      <td>25.0</td>\n",
       "      <td>PHO</td>\n",
       "      <td>75.0</td>\n",
       "      <td>28.9</td>\n",
       "      <td>6.2</td>\n",
       "      <td>11.7</td>\n",
       "      <td>0.531</td>\n",
       "      <td>...</td>\n",
       "      <td>4.3</td>\n",
       "      <td>1.4</td>\n",
       "      <td>0.7</td>\n",
       "      <td>2.9</td>\n",
       "      <td>3.2</td>\n",
       "      <td>14.9</td>\n",
       "      <td>1980</td>\n",
       "      <td>14.9</td>\n",
       "      <td>7.3</td>\n",
       "      <td>4.6</td>\n",
       "    </tr>\n",
       "    <tr>\n",
       "      <th>2</th>\n",
       "      <td>2</td>\n",
       "      <td>Tiny Archibald*</td>\n",
       "      <td>PG</td>\n",
       "      <td>31.0</td>\n",
       "      <td>BOS</td>\n",
       "      <td>80.0</td>\n",
       "      <td>35.8</td>\n",
       "      <td>4.8</td>\n",
       "      <td>9.9</td>\n",
       "      <td>0.482</td>\n",
       "      <td>...</td>\n",
       "      <td>8.4</td>\n",
       "      <td>1.3</td>\n",
       "      <td>0.1</td>\n",
       "      <td>3.0</td>\n",
       "      <td>2.7</td>\n",
       "      <td>14.1</td>\n",
       "      <td>1980</td>\n",
       "      <td>13.8</td>\n",
       "      <td>2.2</td>\n",
       "      <td>7.7</td>\n",
       "    </tr>\n",
       "    <tr>\n",
       "      <th>3</th>\n",
       "      <td>3</td>\n",
       "      <td>James Bailey</td>\n",
       "      <td>PF</td>\n",
       "      <td>22.0</td>\n",
       "      <td>SEA</td>\n",
       "      <td>67.0</td>\n",
       "      <td>10.8</td>\n",
       "      <td>1.8</td>\n",
       "      <td>4.0</td>\n",
       "      <td>0.450</td>\n",
       "      <td>...</td>\n",
       "      <td>0.4</td>\n",
       "      <td>0.3</td>\n",
       "      <td>0.8</td>\n",
       "      <td>1.2</td>\n",
       "      <td>1.7</td>\n",
       "      <td>4.7</td>\n",
       "      <td>1980</td>\n",
       "      <td>14.0</td>\n",
       "      <td>7.4</td>\n",
       "      <td>1.2</td>\n",
       "    </tr>\n",
       "    <tr>\n",
       "      <th>4</th>\n",
       "      <td>4</td>\n",
       "      <td>Greg Ballard</td>\n",
       "      <td>SF</td>\n",
       "      <td>25.0</td>\n",
       "      <td>WSB</td>\n",
       "      <td>82.0</td>\n",
       "      <td>29.7</td>\n",
       "      <td>6.6</td>\n",
       "      <td>13.4</td>\n",
       "      <td>0.495</td>\n",
       "      <td>...</td>\n",
       "      <td>1.9</td>\n",
       "      <td>1.1</td>\n",
       "      <td>0.4</td>\n",
       "      <td>1.6</td>\n",
       "      <td>2.4</td>\n",
       "      <td>15.6</td>\n",
       "      <td>1980</td>\n",
       "      <td>15.5</td>\n",
       "      <td>7.1</td>\n",
       "      <td>2.4</td>\n",
       "    </tr>\n",
       "  </tbody>\n",
       "</table>\n",
       "<p>5 rows × 33 columns</p>\n",
       "</div>"
      ],
      "text/plain": [
       "   Unnamed: 0                Player Pos   Age   Tm     G    MP    FG   FGA  \\\n",
       "0           0  Kareem Abdul-Jabbar*   C  32.0  LAL  82.0  38.3  10.2  16.9   \n",
       "1           1           Alvan Adams   C  25.0  PHO  75.0  28.9   6.2  11.7   \n",
       "2           2       Tiny Archibald*  PG  31.0  BOS  80.0  35.8   4.8   9.9   \n",
       "3           3          James Bailey  PF  22.0  SEA  67.0  10.8   1.8   4.0   \n",
       "4           4          Greg Ballard  SF  25.0  WSB  82.0  29.7   6.6  13.4   \n",
       "\n",
       "     FG%  ...  AST  STL  BLK  TOV   PF   PTS  Season  Target_PTS  Target_TRB  \\\n",
       "0  0.604  ...  4.5  1.0  3.4  3.6  2.6  24.8    1980        26.2        10.3   \n",
       "1  0.531  ...  4.3  1.4  0.7  2.9  3.2  14.9    1980        14.9         7.3   \n",
       "2  0.482  ...  8.4  1.3  0.1  3.0  2.7  14.1    1980        13.8         2.2   \n",
       "3  0.450  ...  0.4  0.3  0.8  1.2  1.7   4.7    1980        14.0         7.4   \n",
       "4  0.495  ...  1.9  1.1  0.4  1.6  2.4  15.6    1980        15.5         7.1   \n",
       "\n",
       "   Target_AST  \n",
       "0         3.4  \n",
       "1         4.6  \n",
       "2         7.7  \n",
       "3         1.2  \n",
       "4         2.4  \n",
       "\n",
       "[5 rows x 33 columns]"
      ]
     },
     "execution_count": 229,
     "metadata": {},
     "output_type": "execute_result"
    }
   ],
   "source": [
    "# Load in the Data from the CSV that we created\n",
    "data = pd.read_csv(\"https://raw.githubusercontent.com/kasterlevi/CSE543_NBA_Project/main/NBA_Player_StatsV2.csv\")\n",
    "data.head()"
   ]
  },
  {
   "cell_type": "code",
   "execution_count": 219,
   "id": "e5b27d5f",
   "metadata": {},
   "outputs": [],
   "source": [
    "# Remove the categorical data and the target features from the original dataframe\n",
    "# Encode the 'Pos' feature\n",
    "\n",
    "target_PTS = data['Target_PTS']\n",
    "target_TRB = data['Target_TRB']\n",
    "target_AST = data['Target_AST']\n",
    "X = data.drop(['Player','Tm','Unnamed: 0', 'Target_PTS','Target_TRB', 'Target_AST', 'Season'], axis=1)\n",
    "X['Pos'] = X['Pos'].replace({'C': 5, 'PF': 4, 'SF': 3, 'SG': 2, 'PG': 1})"
   ]
  },
  {
   "cell_type": "code",
   "execution_count": 220,
   "id": "2d671407",
   "metadata": {},
   "outputs": [],
   "source": [
    "# Split Data into the Same Train and Test Sets \n",
    "\n",
    "X_train, X_test, y_train_PTS, y_test_PTS = train_test_split(X, target_PTS, test_size=0.15, random_state=15)\n",
    "X_train, X_test, y_train_TRB, y_test_TRB = train_test_split(X, target_TRB, test_size=0.15, random_state=15)\n",
    "X_train, X_test, y_train_AST, y_test_AST = train_test_split(X, target_AST, test_size=0.15, random_state=15)"
   ]
  },
  {
   "cell_type": "code",
   "execution_count": 221,
   "id": "e0bda9e4",
   "metadata": {},
   "outputs": [],
   "source": [
    "# Function to help us with choosing the best K-value, includes data scaling and uses Cross Validation on training set \n",
    "\n",
    "def choose_k(X, y, n):\n",
    "    model_values = []\n",
    "    values = []\n",
    "    \n",
    "    kf = KFold(n_splits=10, shuffle = True, random_state=10)\n",
    "    Xnp = np.array(X)\n",
    "    ynp = np.array(y)\n",
    "    for fold, (train_idx, test_idx) in enumerate(kf.split(X)):\n",
    "        X_train_here, X_val = Xnp[train_idx], Xnp[test_idx]\n",
    "        y_train_here, y_val = ynp[train_idx], ynp[test_idx]\n",
    "        scaler = preprocessing.StandardScaler().fit(X_train_here)\n",
    "        X_train_scaled = scaler.transform(X_train_here)  \n",
    "        X_val_scaled = scaler.transform(X_val)\n",
    "    \n",
    "        model = KNeighborsRegressor(n_neighbors=n)\n",
    "        model.fit(X_train_scaled, y_train_here)\n",
    "        predictions = model.predict(X_val_scaled)\n",
    "        model_values.append(r2_score(y_val, predictions))\n",
    "    return np.mean(model_values)\n"
   ]
  },
  {
   "cell_type": "code",
   "execution_count": 222,
   "id": "cb26b390",
   "metadata": {},
   "outputs": [
    {
     "name": "stdout",
     "output_type": "stream",
     "text": [
      "here\n",
      "here\n"
     ]
    }
   ],
   "source": [
    "# Run the K-means to determine the best number of nearest neighbors for PTS, TRB, and AST\n",
    "\n",
    "PTS_model_values = []\n",
    "x_values = range(1,26)\n",
    "for i in x_values:\n",
    "    PTS_model_error = choose_k(X_train, y_train_PTS, i)\n",
    "    PTS_model_values.append(PTS_model_error)\n",
    "\n",
    "print('here')\n",
    "TRB_model_values = []\n",
    "x_values = range(1,26)\n",
    "for i in x_values:\n",
    "    TRB_model_error = choose_k(X_train, y_train_TRB, i)\n",
    "    TRB_model_values.append(TRB_model_error)\n",
    "\n",
    "print('here')\n",
    "AST_model_values = []\n",
    "x_values = range(1,26)\n",
    "for i in x_values:\n",
    "    AST_model_error = choose_k(X_train, y_train_AST, i)\n",
    "    AST_model_values.append(AST_model_error)"
   ]
  },
  {
   "cell_type": "code",
   "execution_count": 223,
   "id": "9f2d33a6",
   "metadata": {},
   "outputs": [
    {
     "data": {
      "text/plain": [
       "Text(0, 0.5, 'R2 Value')"
      ]
     },
     "execution_count": 223,
     "metadata": {},
     "output_type": "execute_result"
    },
    {
     "data": {
      "image/png": "[encoded data removed]",
      "text/plain": [
       "<Figure size 432x288 with 1 Axes>"
      ]
     },
     "metadata": {
      "needs_background": "light"
     },
     "output_type": "display_data"
    }
   ],
   "source": [
    "# Plot the R^2 Values for each number\n",
    "\n",
    "one, = plt.plot(x_values, PTS_model_values, color='red')\n",
    "two, = plt.plot(x_values, TRB_model_values, color='blue')\n",
    "three, = plt.plot(x_values, AST_model_values, color='green')\n",
    "plt.legend((one, two, three), (\"Model R2 Values for PTS\", \"Model R2 Values for TRB\", \"Model R2 Values for AST\"))\n",
    "plt.title(\"R2 Values for the Model's by Number of Nearest Neighbors\")\n",
    "plt.xlabel('Number of nearest neigbors')\n",
    "plt.ylabel('R2 Value')"
   ]
  },
  {
   "cell_type": "code",
   "execution_count": 224,
   "id": "90252c08",
   "metadata": {},
   "outputs": [],
   "source": [
    "# Scale the Training Data\n",
    "scaler = preprocessing.StandardScaler().fit(X_train)\n",
    "X_train_scaled = scaler.transform(X_train)  \n",
    "X_test_scaled = scaler.transform(X_test)\n",
    "\n",
    "# Run PCA to Reduce the amount of features \n",
    "pca = PCA(n_components=12, random_state = 8)\n",
    "pca.fit(X_train_scaled)\n",
    "X_train_pca = pca.transform(X_train_scaled)\n",
    "X_test_pca = pca.transform(X_test_scaled)"
   ]
  },
  {
   "cell_type": "code",
   "execution_count": 225,
   "id": "a286a2e1",
   "metadata": {},
   "outputs": [
    {
     "name": "stdout",
     "output_type": "stream",
     "text": [
      "r2 value for predicting PTS: 0.7323179791403464\n",
      "r2 value using just previous season PTS data: 0.6998049654525674\n",
      "r2 value for predicting TRB: 0.7623765889208554\n",
      "r2 value using just previous season TRB data: 0.7580726690878099\n",
      "r2 value for predicting PTS: 0.7611965995247287\n",
      "r2 value using just previous season AST data: 0.7937053260268387\n"
     ]
    }
   ],
   "source": [
    "# Generate the r^2 of the model on the PTS data\n",
    "model = KNeighborsRegressor(n_neighbors = 15)\n",
    "model.fit(X_train_pca, y_train_PTS)\n",
    "predictions = model.predict(X_test_pca)\n",
    "score_PTS_pca = r2_score(y_test_PTS, predictions)\n",
    "print('r2 value for predicting PTS: ' + str(score_PTS_pca))\n",
    "# Compare th Model to if we just used only previous season PTS data\n",
    "prev_PTS = r2_score(y_test_PTS, X_test['PTS'])\n",
    "print('r2 value using just previous season PTS data: ' + str(prev_PTS))\n",
    "\n",
    "# Generate the r^2 of the model for predicting TRB\n",
    "model = KNeighborsRegressor(n_neighbors = 10)\n",
    "model.fit(X_train_pca, y_train_TRB)\n",
    "predictions = model.predict(X_test_pca)\n",
    "score_TRB_pca = r2_score(y_test_TRB, predictions)\n",
    "print('r2 value for predicting TRB: ' + str(score_TRB_pca))\n",
    "# Compare th Model to if we just used only previous season TRB data\n",
    "prev_TRB = r2_score(y_test_TRB, X_test['TRB'])\n",
    "print('r2 value using just previous season TRB data: ' + str(prev_TRB))\n",
    "\n",
    "# Generate the r^2 of the model for predicting AST\n",
    "model = KNeighborsRegressor(n_neighbors = 10)\n",
    "model.fit(X_train_pca, y_train_AST)\n",
    "predictions = model.predict(X_test_pca)\n",
    "score_AST_pca = r2_score(y_test_AST, predictions)\n",
    "print('r2 value for predicting PTS: ' + str(score_AST_pca))\n",
    "# Compare th Model to if we just used only previous season AST data\n",
    "prev_AST = r2_score(y_test_AST, X_test['AST'])\n",
    "print('r2 value using just previous season AST data: ' + str(prev_AST))"
   ]
  },
  {
   "cell_type": "code",
   "execution_count": 226,
   "id": "27bc72e5",
   "metadata": {},
   "outputs": [
    {
     "name": "stdout",
     "output_type": "stream",
     "text": [
      "r2 value for predicting PTS: 0.7318408462184851\n",
      "r2 value for predicting TRB: 0.759396302417443\n",
      "r2 value for predicting PTS: 0.7751592846552212\n"
     ]
    }
   ],
   "source": [
    "# Generate the r^2 of the model on the PTS data, no PCA\n",
    "model = KNeighborsRegressor(n_neighbors = 15)\n",
    "model.fit(X_train_scaled, y_train_PTS)\n",
    "predictions = model.predict(X_test_scaled)\n",
    "score_PTS = r2_score(y_test_PTS, predictions)\n",
    "print('r2 value for predicting PTS: ' + str(score_PTS))\n",
    "\n",
    "# Generate the r^2 of the model for predicting TRB, no PCA\n",
    "model = KNeighborsRegressor(n_neighbors = 10)\n",
    "model.fit(X_train_scaled, y_train_TRB)\n",
    "predictions = model.predict(X_test_scaled)\n",
    "score_TRB = r2_score(y_test_TRB, predictions)\n",
    "print('r2 value for predicting TRB: ' + str(score_TRB))\n",
    "\n",
    "# Generate the r^2 of the model for predicting AST, no PCA\n",
    "model = KNeighborsRegressor(n_neighbors = 10)\n",
    "model.fit(X_train_scaled, y_train_AST)\n",
    "predictions = model.predict(X_test_scaled)\n",
    "score_AST = r2_score(y_test_AST, predictions)\n",
    "print('r2 value for predicting PTS: ' + str(score_AST))"
   ]
  },
  {
   "cell_type": "code",
   "execution_count": 227,
   "id": "82ba2a2a",
   "metadata": {},
   "outputs": [
    {
     "data": {
      "text/plain": [
       "Text(0.5, 1.0, 'R^2 Value by Each Statistic and Model Type')"
      ]
     },
     "execution_count": 227,
     "metadata": {},
     "output_type": "execute_result"
    },
    {
     "data": {
      "image/png": "[encoded data removed]",
      "text/plain": [
       "<Figure size 432x288 with 1 Axes>"
      ]
     },
     "metadata": {
      "needs_background": "light"
     },
     "output_type": "display_data"
    }
   ],
   "source": [
    "# Create a bar graph Displaying the results for each model type\n",
    "PTS_values = [score_PTS_pca, score_PTS, prev_PTS]\n",
    "TRB_values = [score_TRB_pca, score_TRB, prev_TRB]\n",
    "AST_values = [score_AST_pca, score_AST, prev_AST]\n",
    "PTS_names = ['Model with PCA', 'Model no PCA','No Model']\n",
    "\n",
    "graph_df = pd.DataFrame(zip(PTS_names*3, [\"PTS\"]*3+[\"TRB\"]*3+[\"AST\"]*3, PTS_values+TRB_values+AST_values), columns=[\"Model Type\", \"Statistic\", \"R2 Value\"])\n",
    "# graph_df = pd.DataFrame(data={'PTS': PTS_values, 'TRB': TRB_values, 'AST': AST_values}, index=PTS_names)\n",
    "sns.barplot(x = \"Statistic\", y='R2 Value', hue=\"Model Type\", data=graph_df)\n",
    "plt.ylim(.65,.8)\n",
    "plt.title('R^2 Value by Each Statistic and Model Type')"
   ]
  },
  {
   "cell_type": "code",
   "execution_count": 228,
   "id": "2ebc0822",
   "metadata": {},
   "outputs": [
    {
     "name": "stdout",
     "output_type": "stream",
     "text": [
      "0.7379222028395273\n"
     ]
    }
   ],
   "source": [
    "# Repeat the whole process multiple times, including doing the split, running PCA, and generating the results\n",
    "# This is for Predicting Points\n",
    "\n",
    "r_squared_model = []\n",
    "r_squared = []\n",
    "for i in range(10):\n",
    "    X_train_PTS, X_test_PTS, y_train_PTS, y_test_PTS = train_test_split(X, target_PTS, test_size=0.15)\n",
    "\n",
    "    scaler = preprocessing.StandardScaler().fit(X_train_PTS)\n",
    "    X_train_PTS_scaled = scaler.transform(X_train_PTS)  \n",
    "    X_test_PTS_scaled = scaler.transform(X_test_PTS)\n",
    "\n",
    "    pca = PCA(n_components=12, random_state = 6)\n",
    "    pca.fit(X_train_PTS_scaled)\n",
    "    X_train_pca_current = pca.transform(X_train_PTS_scaled)\n",
    "    X_test_pca_current = pca.transform(X_test_PTS_scaled)\n",
    "    \n",
    "    model = KNeighborsRegressor(n_neighbors=15)\n",
    "    model.fit(X_train_pca_current, y_train_PTS)\n",
    "    predictions = model.predict(X_test_pca_current)\n",
    "    r_squared_model.append(r2_score(y_test_PTS, predictions))\n",
    "    r_squared.append(r2_score(y_test_PTS, X_test_PTS['PTS']))\n",
    "print(np.mean(r_squared_model))\n"
   ]
  },
  {
   "cell_type": "code",
   "execution_count": 191,
   "id": "b3b36daf",
   "metadata": {},
   "outputs": [
    {
     "name": "stdout",
     "output_type": "stream",
     "text": [
      "0.7430018044080013\n",
      "0.7480205071780393\n"
     ]
    }
   ],
   "source": [
    "# Repeat the whole process multiple times, including doing the split, running PCA, and generating the results\n",
    "# This is for Predicting Rebounds \n",
    "\n",
    "r_squared_model = []\n",
    "r_squared = []\n",
    "for i in range(10):\n",
    "    X_train_TRB, X_test_TRB, y_train_TRB, y_test_TRB = train_test_split(X, target_TRB, test_size=0.15)\n",
    "\n",
    "    scaler = preprocessing.StandardScaler().fit(X_train_TRB)\n",
    "    X_train_TRB_scaled = scaler.transform(X_train_TRB)  \n",
    "    X_test_TRB_scaled = scaler.transform(X_test_TRB)\n",
    "\n",
    "    pca = PCA(n_components=12, random_state = 6)\n",
    "    pca.fit(X_train_TRB_scaled)\n",
    "    X_train_TRB_scaled = pca.transform(X_train_TRB_scaled)\n",
    "    X_test_TRB_scaled = pca.transform(X_test_TRB_scaled)\n",
    "    \n",
    "    model = KNeighborsRegressor(n_neighbors=10)\n",
    "    model.fit(X_train_TRB_scaled, y_train_TRB)\n",
    "    predictions = model.predict(X_test_TRB_scaled)\n",
    "    r_squared_model.append(r2_score(y_test_TRB, predictions))\n",
    "    r_squared.append(r2_score(y_test_TRB, X_test_TRB['TRB']))\n",
    "print(np.mean(r_squared_model))\n",
    "print(np.mean(r_squared))"
   ]
  },
  {
   "cell_type": "code",
   "execution_count": 192,
   "id": "8a418593",
   "metadata": {},
   "outputs": [
    {
     "name": "stdout",
     "output_type": "stream",
     "text": [
      "0.7472473175770806\n",
      "0.7818163634868948\n"
     ]
    }
   ],
   "source": [
    "r_squared_model = []\n",
    "r_squared = []\n",
    "for i in range(10):\n",
    "    X_train_AST, X_test_AST, y_train_AST, y_test_AST = train_test_split(X, target_AST, test_size=0.15)\n",
    "\n",
    "    scaler = preprocessing.StandardScaler().fit(X_train_AST)\n",
    "    X_train_AST_scaled = scaler.transform(X_train_AST)  \n",
    "    X_test_AST_scaled = scaler.transform(X_test_AST)\n",
    "\n",
    "    pca = PCA(n_components=12, random_state = 6)\n",
    "    pca.fit(X_train_AST_scaled)\n",
    "    X_train_AST_scaled = pca.transform(X_train_AST_scaled)\n",
    "    X_test_AST_scaled = pca.transform(X_test_AST_scaled)\n",
    "    \n",
    "    model = KNeighborsRegressor(n_neighbors=17)\n",
    "    model.fit(X_train_AST_scaled, y_train_AST)\n",
    "    predictions = model.predict(X_test_AST_scaled)\n",
    "    r_squared_model.append(r2_score(y_test_AST, predictions))\n",
    "    r_squared.append(r2_score(y_test_AST, X_test_AST['AST']))\n",
    "print(np.mean(r_squared_model))\n",
    "print(np.mean(r_squared))"
   ]
  }
 ],
 "metadata": {
  "kernelspec": {
   "display_name": "Python 3",
   "language": "python",
   "name": "python3"
  },
  "language_info": {
   "codemirror_mode": {
    "name": "ipython",
    "version": 3
   },
   "file_extension": ".py",
   "mimetype": "text/x-python",
   "name": "python",
   "nbconvert_exporter": "python",
   "pygments_lexer": "ipython3",
   "version": "3.7.11"
  }
 },
 "nbformat": 4,
 "nbformat_minor": 5
}
